{
 "cells": [
  {
   "cell_type": "code",
   "execution_count": 1,
   "id": "b0d4d11c",
   "metadata": {},
   "outputs": [],
   "source": [
    "# libraries for data preprocessing\n",
    "\n",
    "import numpy as np\n",
    "import matplotlib.pyplot as plt\n",
    "import pandas as pd"
   ]
  },
  {
   "cell_type": "code",
   "execution_count": 2,
   "id": "e657da2d",
   "metadata": {},
   "outputs": [],
   "source": [
    "# import dataset\n",
    "\n",
    "dataset = pd.read_csv('datasets/pre_process.csv')\n",
    "\n",
    "# a dataset need to have features and dependent variable vectors\n",
    "# features are columns used to predict\n",
    "# dependent variable is the last column which need to be predicted\n",
    "\n",
    "# take all rows\n",
    "\n",
    "x = dataset.iloc[:,:-1].values # takes the features of the dataset\n",
    "y = dataset.iloc[:,-1].values # takes teh last column i.e, dependent variable"
   ]
  },
  {
   "cell_type": "code",
   "execution_count": 3,
   "id": "f7f8e0c7",
   "metadata": {},
   "outputs": [
    {
     "name": "stdout",
     "output_type": "stream",
     "text": [
      "[['France' 44.0 72000.0]\n",
      " ['Spain' 27.0 48000.0]\n",
      " ['Germany' 30.0 54000.0]\n",
      " ['Spain' 38.0 61000.0]\n",
      " ['Germany' 40.0 nan]\n",
      " ['France' 35.0 58000.0]\n",
      " ['Spain' nan 52000.0]\n",
      " ['France' 48.0 79000.0]\n",
      " ['Germany' 50.0 83000.0]\n",
      " ['France' 37.0 67000.0]]\n"
     ]
    }
   ],
   "source": [
    "print(x)"
   ]
  },
  {
   "cell_type": "code",
   "execution_count": 4,
   "id": "aaa5d36d",
   "metadata": {},
   "outputs": [
    {
     "name": "stdout",
     "output_type": "stream",
     "text": [
      "['No' 'Yes' 'No' 'No' 'Yes' 'Yes' 'No' 'Yes' 'No' 'Yes']\n"
     ]
    }
   ],
   "source": [
    "print(y)"
   ]
  },
  {
   "cell_type": "code",
   "execution_count": 10,
   "id": "04a66406",
   "metadata": {},
   "outputs": [],
   "source": [
    "# taking care of missing datas\n",
    "\n",
    "from sklearn.impute import SimpleImputer\n",
    "\n",
    "# imputes the missing datas with mean value\n",
    "imputer = SimpleImputer(missing_values = np.nan,strategy = 'mean')\n",
    "\n",
    "imputer.fit(x[:,1:3]) # passing all the row and only specific columns need to be changed\n",
    "x[:,1:3] = imputer.transform(x[:,1:3]) # returns an updated feature of matrix"
   ]
  },
  {
   "cell_type": "code",
   "execution_count": 11,
   "id": "b8777fd0",
   "metadata": {},
   "outputs": [
    {
     "name": "stdout",
     "output_type": "stream",
     "text": [
      "[['France' 44.0 72000.0]\n",
      " ['Spain' 27.0 48000.0]\n",
      " ['Germany' 30.0 54000.0]\n",
      " ['Spain' 38.0 61000.0]\n",
      " ['Germany' 40.0 63777.77777777778]\n",
      " ['France' 35.0 58000.0]\n",
      " ['Spain' 38.77777777777778 52000.0]\n",
      " ['France' 48.0 79000.0]\n",
      " ['Germany' 50.0 83000.0]\n",
      " ['France' 37.0 67000.0]]\n"
     ]
    }
   ],
   "source": [
    "print(x)"
   ]
  },
  {
   "cell_type": "code",
   "execution_count": 12,
   "id": "8c464845",
   "metadata": {},
   "outputs": [],
   "source": [
    "# Hot Encoding\n",
    "\n",
    "# changing categorical variables into numerical variables\n",
    "\n",
    "from sklearn.compose import ColumnTransformer\n",
    "from sklearn.preprocessing import OneHotEncoder\n",
    "\n",
    "# change the country column to different columns from categorical to continous\n",
    "ct = ColumnTransformer(\n",
    "    transformers=[('encoder',OneHotEncoder(),[0])],\n",
    "    remainder = 'passthrough'\n",
    ")\n",
    "\n",
    "x = np.array(ct.fit_transform(x)) # transforms the data and updates it"
   ]
  },
  {
   "cell_type": "code",
   "execution_count": 13,
   "id": "9a69cf7e",
   "metadata": {},
   "outputs": [
    {
     "name": "stdout",
     "output_type": "stream",
     "text": [
      "[[1.0 0.0 0.0 44.0 72000.0]\n",
      " [0.0 0.0 1.0 27.0 48000.0]\n",
      " [0.0 1.0 0.0 30.0 54000.0]\n",
      " [0.0 0.0 1.0 38.0 61000.0]\n",
      " [0.0 1.0 0.0 40.0 63777.77777777778]\n",
      " [1.0 0.0 0.0 35.0 58000.0]\n",
      " [0.0 0.0 1.0 38.77777777777778 52000.0]\n",
      " [1.0 0.0 0.0 48.0 79000.0]\n",
      " [0.0 1.0 0.0 50.0 83000.0]\n",
      " [1.0 0.0 0.0 37.0 67000.0]]\n"
     ]
    }
   ],
   "source": [
    "print(x)\n",
    "# column - 1 : France\n",
    "# column - 2 : Spain\n",
    "# column - 3 : Germany\n",
    "# 1.0 - Yes\n",
    "# 0.0 - No"
   ]
  },
  {
   "cell_type": "code",
   "execution_count": 14,
   "id": "80c79d98",
   "metadata": {},
   "outputs": [],
   "source": [
    "# encodes the yes to 1 and No to 0\n",
    "\n",
    "from sklearn.preprocessing import LabelEncoder\n",
    "le = LabelEncoder()\n",
    "y = le.fit_transform(y)"
   ]
  },
  {
   "cell_type": "code",
   "execution_count": 15,
   "id": "5e707815",
   "metadata": {},
   "outputs": [
    {
     "name": "stdout",
     "output_type": "stream",
     "text": [
      "[0 1 0 0 1 1 0 1 0 1]\n"
     ]
    }
   ],
   "source": [
    "print(y)"
   ]
  },
  {
   "cell_type": "code",
   "execution_count": 16,
   "id": "ec92de87",
   "metadata": {},
   "outputs": [],
   "source": [
    "# splitting dataset to train and test sets\n",
    "\n",
    "from sklearn.model_selection import train_test_split\n",
    "\n",
    "# splits the data into 80 and 20 for train and test respectively\n",
    "# splits randomly\n",
    "x_train, x_test, y_train, y_test = train_test_split(\n",
    "    x,\n",
    "    y,\n",
    "    test_size = 0.2,\n",
    "    random_state = 1\n",
    ")"
   ]
  },
  {
   "cell_type": "code",
   "execution_count": 18,
   "id": "8b568867",
   "metadata": {},
   "outputs": [
    {
     "name": "stdout",
     "output_type": "stream",
     "text": [
      "[[0.0 0.0 1.0 38.77777777777778 52000.0]\n",
      " [0.0 1.0 0.0 40.0 63777.77777777778]\n",
      " [1.0 0.0 0.0 44.0 72000.0]\n",
      " [0.0 0.0 1.0 38.0 61000.0]\n",
      " [0.0 0.0 1.0 27.0 48000.0]\n",
      " [1.0 0.0 0.0 48.0 79000.0]\n",
      " [0.0 1.0 0.0 50.0 83000.0]\n",
      " [1.0 0.0 0.0 35.0 58000.0]]\n",
      "\n",
      "[0 1 0 0 1 1 0 1]\n"
     ]
    }
   ],
   "source": [
    "print(x_train,y_train,sep = '\\n\\n')"
   ]
  },
  {
   "cell_type": "code",
   "execution_count": 19,
   "id": "37a4a32b",
   "metadata": {},
   "outputs": [
    {
     "name": "stdout",
     "output_type": "stream",
     "text": [
      "[[0.0 1.0 0.0 30.0 54000.0]\n",
      " [1.0 0.0 0.0 37.0 67000.0]]\n",
      "\n",
      "[0 1]\n"
     ]
    }
   ],
   "source": [
    "print(x_test,y_test,sep='\\n\\n')"
   ]
  },
  {
   "cell_type": "code",
   "execution_count": null,
   "id": "31d8449f",
   "metadata": {},
   "outputs": [],
   "source": [
    "# feature scaling\n",
    "\n",
    "# it is used to put all features in the same scale\n",
    "# it no need for all ml models. only for some models\n",
    "\n",
    "# main feature scalings : standardaisation, normalaisation\n",
    "\n",
    "# standardisation : puts all values of feature between -3 and +3\n",
    "# normalaisation : puts all values of feature between 0 and 1\n",
    "\n",
    "# normalaisation is used when the datas are normal distributed\n",
    "# standardaisation will work well in all condition"
   ]
  }
 ],
 "metadata": {
  "kernelspec": {
   "display_name": "Python 3 (ipykernel)",
   "language": "python",
   "name": "python3"
  },
  "language_info": {
   "codemirror_mode": {
    "name": "ipython",
    "version": 3
   },
   "file_extension": ".py",
   "mimetype": "text/x-python",
   "name": "python",
   "nbconvert_exporter": "python",
   "pygments_lexer": "ipython3",
   "version": "3.11.5"
  }
 },
 "nbformat": 4,
 "nbformat_minor": 5
}
